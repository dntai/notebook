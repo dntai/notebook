{
 "cells": [
  {
   "cell_type": "markdown",
   "metadata": {},
   "source": [
    "# II. Limit of  a Sequence"
   ]
  },
  {
   "cell_type": "markdown",
   "metadata": {},
   "source": [
    "### 1. Definition"
   ]
  },
  {
   "cell_type": "markdown",
   "metadata": {},
   "source": [
    "**a. Definition**\n",
    "- $$ u : \\mathbb{N}^{*} \\to \\mathbb{R} $$ Function u is a sequence number. Let $u_n$ = u(n) so the sequence can be presented as $u_1, u_2, ..., u_n$. We denote the sequence by $\\{u_n\\}$\n",
    "- Given a sequence {$u_n$}. The value $L \\in \\mathbb{R}$ is called the limit of sequence {$u_n$} if $$\\forall \\epsilon > 0, \\exists n_0(\\epsilon) : \\forall n>n_0, |u_n - L| < \\epsilon$$ $$\\lim_{n \\to \\infty} u_n = L; u_n \\to L \\ as \\ n \\to \\infty$$ If L exist, then we say {$u_n$} coverages or is covergent, if not, {$u_n$} diverges or is divergent"
   ]
  },
  {
   "cell_type": "markdown",
   "metadata": {},
   "source": [
    "**b. Examples**\n",
    "To be done"
   ]
  },
  {
   "cell_type": "markdown",
   "metadata": {},
   "source": [
    "### 2. Properties"
   ]
  },
  {
   "cell_type": "markdown",
   "metadata": {},
   "source": [
    "**a. The uniqueness of limit**\n",
    "- A sequence {$u_n$} has at most 1 limit\n",
    "- Proof:\n",
    "\n",
    "$$ (\\forall \\epsilon |a - b| < \\epsilon) => a = b (Proof \\ by \\ contradiction) $$\n",
    "\n",
    "$$ Let \\lim_{n \\to \\infty} u_n = L_1, \\lim_{n \\to \\infty} u_n = L_2 $$\n",
    "$$ \\forall \\epsilon > 0, \\exists n_1(\\epsilon) : \\forall n>n_1, |u_n - L_1| < \\frac{\\epsilon}{2} $$\n",
    "$$ \\forall \\epsilon > 0, \\exists n_2(\\epsilon) : \\forall n>n_2, |u_n - L_2| < \\frac{\\epsilon}{2} $$\n",
    "$$ Let \\ n = max(n_1, n_2) $$\n",
    "$$ |L_1 - L_2| = |L_1 - u_n + u_n - L2| \\leq |L_1 - u_n| + |u_n - L2| < \\frac{\\epsilon}{2} + \\frac{\\epsilon}{2}  = \\epsilon$$\n",
    "$$ So \\ L_1 = L_2 $$\n"
   ]
  },
  {
   "cell_type": "markdown",
   "metadata": {},
   "source": [
    "**b. Limit of subsequence of a covergent sequence**\n",
    "- Given a sequence {$u_n$} and a sequence {$n_k$} so that $n_1 < n_2 < ... < n_k$. The sequence $u_{n_k} = u_{n_1}, u_{n_2}, ... , u_{n_k}$ is called a subsequence of {$u_n$}\n",
    "- All subsequences of a covergent sequence are covergent and have the same limit.\n",
    "- Proof\n",
    "$$ Let \\ lim_{n \\to \\infty} = L => \\forall \\epsilon, \\exists n_0 : \\forall n > n_0 |u_n - L| < \\epsilon $$\n",
    "$$ With \\ u_{n_k} \\forall k > n_0, we \\ have \\ n_k \\geq k > n_0. Hence \\ |u_{n_k} - L| < \\epsilon $$"
   ]
  },
  {
   "cell_type": "markdown",
   "metadata": {},
   "source": [
    "**c. Limit of absolute value sequences**\n",
    "- If {$u_n$} coverages and $\\lim_{n \\to \\infty} u_n = L$ then {$|u_n|$} coverages and $ \\lim_{n \\to \\infty} |u_n| = |L|$"
   ]
  },
  {
   "cell_type": "code",
   "execution_count": null,
   "metadata": {
    "collapsed": true
   },
   "outputs": [],
   "source": []
  }
 ],
 "metadata": {
  "kernelspec": {
   "display_name": "Python 2",
   "language": "python",
   "name": "python2"
  },
  "language_info": {
   "codemirror_mode": {
    "name": "ipython",
    "version": 2
   },
   "file_extension": ".py",
   "mimetype": "text/x-python",
   "name": "python",
   "nbconvert_exporter": "python",
   "pygments_lexer": "ipython2",
   "version": "2.7.3"
  }
 },
 "nbformat": 4,
 "nbformat_minor": 0
}
