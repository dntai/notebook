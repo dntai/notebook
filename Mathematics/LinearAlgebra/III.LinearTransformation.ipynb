{
 "cells": [
  {
   "cell_type": "markdown",
   "metadata": {},
   "source": [
    "# III. Linear Transformation"
   ]
  },
  {
   "cell_type": "markdown",
   "metadata": {},
   "source": [
    "### 1. Introduction"
   ]
  },
  {
   "cell_type": "markdown",
   "metadata": {},
   "source": [
    "**a. Definition**\n",
    "- Let $V$ and $W$ be vector spaces. The function $f: V \\rightarrow W$ is called a **linear transformation** of $V$\n",
    "into $W$ if the following two properties are true for all $u$ and $v$ in $V$ and for any scalar c\n",
    "  - $T(u+v) = T(u) + T(v)$\n",
    "  - $T(cu) = cT(u)$"
   ]
  },
  {
   "cell_type": "markdown",
   "metadata": {},
   "source": [
    "**b. Properties**\n",
    "- $T(0) = 0$\n",
    "- $T(-u) = -T(u)$\n",
    "- $T(\\sum_{i=1}^{n}c_iu_i) = \\sum_{i=1}^{n}T(c_iu_i)$"
   ]
  },
  {
   "cell_type": "markdown",
   "metadata": {},
   "source": [
    "### 2. Isomorphism "
   ]
  },
  {
   "cell_type": "markdown",
   "metadata": {},
   "source": [
    "**a. Definition**\n",
    "- A bijective linear map from $V$ to $W$ is called an **isomorphism** from $V$ to $W$.  If there exists an isomorphism between vector spaces $V$ and $W$, they are said to be **isomorphic**\n",
    "$$V \\cong W$$"
   ]
  },
  {
   "cell_type": "markdown",
   "metadata": {},
   "source": [
    "**b. Theorem**\n",
    "- Let $V$ and $W$ be finite dimensional vector spaces. Then $$V \\cong W \\Leftrightarrow dim(V)=dim(W)$$"
   ]
  },
  {
   "cell_type": "markdown",
   "metadata": {},
   "source": [
    "### References\n",
    "- Elementary Linear Algebra 6th Edition, Ron Larson, David C. Falvo\n",
    "- Đại số tuyến tính, Nguyễn Hữu Việt Hưng"
   ]
  }
 ],
 "metadata": {
  "kernelspec": {
   "display_name": "Python 2",
   "language": "python",
   "name": "python2"
  },
  "language_info": {
   "codemirror_mode": {
    "name": "ipython",
    "version": 2
   },
   "file_extension": ".py",
   "mimetype": "text/x-python",
   "name": "python",
   "nbconvert_exporter": "python",
   "pygments_lexer": "ipython2",
   "version": "2.7.3"
  }
 },
 "nbformat": 4,
 "nbformat_minor": 0
}
