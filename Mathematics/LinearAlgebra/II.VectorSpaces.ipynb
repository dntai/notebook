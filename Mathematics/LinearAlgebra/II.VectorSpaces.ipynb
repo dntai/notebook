{
 "cells": [
  {
   "cell_type": "markdown",
   "metadata": {},
   "source": [
    "# II.Vector Spaces"
   ]
  },
  {
   "cell_type": "markdown",
   "metadata": {},
   "source": [
    "### 1. Definition"
   ]
  },
  {
   "cell_type": "markdown",
   "metadata": {},
   "source": [
    "**a. Definition**\n",
    "\n",
    "Let be a set on which two operations (**vector addition** and **scalar multiplication**) are defined. If the listed axioms are satisfied for every **u**, **v** and **w** in **V** and in and every scalar (real number) *c*, *d* and then **V** is called a vector space.\n",
    "* Addition:\n",
    " 1. $u + v$ is in **V**\n",
    " 2. $(u + v) + w = u + (v + w)$\n",
    " 3. $\\exists 0 \\in V : 0 + u = u + 0 = u$\n",
    " 4. $\\forall u \\in V, \\exists (-u) \\in V : u + (-u) = (-u) + u = 0$\n",
    " 5. $u + v = v + u$\n",
    "* Scalar:\n",
    " 6. $cu$ is in **V**\n",
    " 7. $(c+d)u = cu + du$\n",
    " 8. $c(u+v) = cu + cv$\n",
    " 9. $c(du) = (cd)u$\n",
    " 10. $1u = u$"
   ]
  },
  {
   "cell_type": "markdown",
   "metadata": {},
   "source": [
    "**b. Properties**\n",
    "- $0v = 0$\n",
    "- $c0 = 0$\n",
    "- if $cv = 0$, then $c=0$ or $u=0$\n",
    "- $(-1)v = -v$"
   ]
  },
  {
   "cell_type": "markdown",
   "metadata": {},
   "source": [
    "Proof: To be done"
   ]
  },
  {
   "cell_type": "markdown",
   "metadata": {},
   "source": [
    "### 2. Linear independence and linear dependence"
   ]
  },
  {
   "cell_type": "markdown",
   "metadata": {},
   "source": [
    "**a. Definition**\n",
    "\n",
    "- A vector **v** in a vector space is called a **linear combination** of the vectors $u_1, u_2, ..., u_k$ in if **v** can be written in the form $$v = \\sum_{i=1}^{k}c_i u_i$$ where $c_1, c_2, ... , c_k$ are scalars.\n",
    "- A set of vectors $S={v_1, v_2, ..., v_k}$ in a vector space is called **linearly independent** if the vector equation $$\\sum_{i=1}^{k}c_iu_i = 0$$ has only trivial solution, $\\sum_{1}^{k}c_i^2$=0. If there are also nontrivial\n",
    "solutions, then S is called **linearly dependent**.\n"
   ]
  },
  {
   "cell_type": "markdown",
   "metadata": {},
   "source": [
    "**b. Properties**\n",
    "\n",
    "- ${v}$ is linearly dependent $ \\Leftrightarrow v = 0 $\n",
    "- A set $S = {v_1, v_2, ..., v_k}, k\\geq2, $ is linearly dependent if and only if at least one of the vectors $v_j$ can be written as a linear combination of the other vectors in $S$.\n",
    "- A subset of linearly independent set is linearly independent.\n",
    "- A set contains linearly dependent set is linearly depedent.\n",
    "- A set $S = {v_1, v_2, ..., v_k}$ is linearly independent. $S' = {v_1, v_2, ..., v_k, u}$ is linearly dependent if and only if u can be writen as a linear combination of S and the combination is unique.\n",
    "- Proof: to be done"
   ]
  },
  {
   "cell_type": "markdown",
   "metadata": {
    "collapsed": true
   },
   "source": [
    "### 3. Basis and dimensons"
   ]
  },
  {
   "cell_type": "markdown",
   "metadata": {},
   "source": [
    "**a. Defenitions**\n",
    "- Let $S = \\{v_1, v_2, ..., v_k\\} $ be a subset of a vector space The set is called a **spanning set** of if every vector in can be written as a linear combination of vectors in $S$. In such cases it is said that $S$ *spans* $V$.\n",
    "$$ S = \\{v_1, v_2, ..., v_k\\} \\ spans \\ V \\Leftrightarrow \\forall u \\in V, \\exists c: u = \\sum_{i=1}^{k}c_i v_i$$\n",
    "- A set of vectors $S = \\{v_1, v_2, ..., v_k\\} $ in a vector space $V$ is called a **basis** for $V$ if\n",
    " - $S$ spans $V$ \n",
    " - $S$ is linearly independent\n",
    "- If a vector space $V$ has a basis $S$ consisting of *n* vectors, then the number *n* is called the **dimension** of $V$, denoted by $dim(V) = n$.\n",
    " - If $V$ consists of the zero vector alone, $dim(V) = 0$\n",
    " - if $S$ consists of a finite number of vectors, $V$ is **finite dimensional**, otherwise V is **infinite dimensional**."
   ]
  },
  {
   "cell_type": "markdown",
   "metadata": {},
   "source": [
    "**b. Lemma**\n",
    "- Let $S = \\{u_1, u_2, ..., u_r\\}$ is linearly independent and can be reprepresented as a linear combination of $S_2 = \\{v_1, v_2, ..., v_s\\}$. Then $r \\le s$\n",
    "  - Proof: To be done"
   ]
  },
  {
   "cell_type": "markdown",
   "metadata": {},
   "source": [
    "** c. Theorem **\n",
    "- Let $S = \\{v_1, v_2, ..., v_n\\}$ in vector space $V$, then the following is equivelent:\n",
    "  - (1) $S$ is basis of $V$\n",
    "  - (2) $S$ is maximum linear independent\n",
    "  - (3) $\\forall u \\in V, \\exists! c: u = \\sum_{i=1}^{n}c_iv_i$"
   ]
  },
  {
   "cell_type": "markdown",
   "metadata": {},
   "source": [
    "- Every basis of $V$ contains the same elements\n",
    "- Every spanning sets of $V$ contains a basis\n",
    "- For every linear independent set of $V$, we can add a number of vectors to become a basis for $V$\n",
    "- If $dim(V) = n$ then:\n",
    "  - If $S = \\{v_1, v_2, ..., v_n\\} $ is a linearly independent set of vectors in then $S$ is a basis for $V$\n",
    "  - If $S = \\{v_1, v_2, ..., v_n\\} $ spans $V$ then $S$ is a basis for $V$"
   ]
  },
  {
   "cell_type": "markdown",
   "metadata": {},
   "source": [
    "### 4. Subspaces of Vector Spaces"
   ]
  },
  {
   "cell_type": "markdown",
   "metadata": {},
   "source": [
    "**a. Definition**\n",
    "- A nonempty subset $W$ of a vector space $V$ is called a **subspace** of $V$ if $W$ is a vector space under the operations of addition and scalar multiplication defined in V\n",
    "$$ \\begin{cases} u+v \\in W & \\forall u, v \\in W \\\\ cu \\in W & \\forall c \\in K, \\forall u \\in W \\end{cases} $$\n",
    "- Không gian con vecto của V sinh bởi X, số chiều (**To be done**)"
   ]
  },
  {
   "cell_type": "markdown",
   "metadata": {},
   "source": [
    "**b. Properties**\n",
    "- If $W$ is a subspace of $V$ then $dim(W) \\le dim(V)$. $dim(W)=dim(V) \\Leftrightarrow W=U$\n",
    "- If $V$ and $W$ are both subspaces of a vector space $U$ then the intersection of $V$ and $W$ (denoted by $V \\cap W$) is also a subspace of $V$"
   ]
  },
  {
   "cell_type": "markdown",
   "metadata": {},
   "source": [
    "### 5. Coordinates and Change of Basis"
   ]
  },
  {
   "cell_type": "markdown",
   "metadata": {},
   "source": [
    "**a. Coordinates representation relative to a basis**\n",
    "\n",
    "Let $B = \\{v_1, v_2, ..., v_n\\}$ be an ordered basis for a vector space $V$ and let be a vector x in $V$ such that\n",
    "$$x = \\sum_{i=1}^{n}c_iv_i$$\n",
    "The scalars $c_1, c_2, ..., c_n$ are called the **coordinates of relative to the basis $B$** The **coordinate matrix** (or **coordinate vector**) **of $x$ relative to $B$**is the column matrix in whose components are the coordinate of $x$\n",
    "$$[x]_B = \\begin{bmatrix}c_1\\\\c_2\\\\.\\\\.\\\\c_n\\end{bmatrix}$$"
   ]
  },
  {
   "cell_type": "markdown",
   "metadata": {},
   "source": [
    "**b. Transition matrix**\n",
    "- The matrix $P$ is called the **transition matrix from $B'$ to $B $** if $$[x]_B=P[x]_{B'}$$\n",
    "- Let $B = \\{v_1, v_2, ..., v_n\\}$ and $B' = \\{u_1, u_2, ..., u_n\\}$ be two bases for a vector space V. \n",
    "    $$P = [ \\ [v_1]_{B'} \\ [v_2]_{B'} \\ ... \\ [v_n]_{B'} \\ ] $$\n",
    "- If $P$ is the transition matrix from $B'$ to $B$ then $P^{-1}$ is the transistion matrix from $B$ to $B'$ $$[x]_B=P[x]_{B'} \\Rightarrow  P^{-1}[x]_B=[x]_{B'}$$"
   ]
  },
  {
   "cell_type": "markdown",
   "metadata": {},
   "source": [
    "### References\n",
    "- Elementary Linear Algebra 6th Edition, Ron Larson, David C. Falvo\n",
    "- Đại số tuyến tính, Nguyễn Hữu Việt Hưng"
   ]
  }
 ],
 "metadata": {
  "kernelspec": {
   "display_name": "Python 2",
   "language": "python",
   "name": "python2"
  },
  "language_info": {
   "codemirror_mode": {
    "name": "ipython",
    "version": 2
   },
   "file_extension": ".py",
   "mimetype": "text/x-python",
   "name": "python",
   "nbconvert_exporter": "python",
   "pygments_lexer": "ipython2",
   "version": "2.7.3"
  }
 },
 "nbformat": 4,
 "nbformat_minor": 0
}
