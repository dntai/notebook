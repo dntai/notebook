{
 "cells": [
  {
   "cell_type": "markdown",
   "metadata": {},
   "source": [
    "# II.Vector Spaces"
   ]
  },
  {
   "cell_type": "markdown",
   "metadata": {},
   "source": [
    "### 1. Definition"
   ]
  },
  {
   "cell_type": "markdown",
   "metadata": {},
   "source": [
    "**a. Definition**\n",
    "\n",
    "Let be a set on which two operations (**vector addition** and **scalar multiplication**) are defined. If the listed axioms are satisfied for every **u**, **v** and **w** in **V** and in and every scalar (real number) *c*, *d* and then **V** is called a vector space.\n",
    "* Addition:\n",
    " 1. $u + v$ is in **V**\n",
    " 2. $(u + v) + w = u + (v + w)$\n",
    " 3. $\\exists 0 \\in V : 0 + u = u + 0 = u$\n",
    " 4. $\\forall u \\in V, \\exists (-u) \\in V : u + (-u) = (-u) + u = 0$\n",
    " 5. $u + v = v + u$\n",
    "* Scalar:\n",
    " 6. $cu$ is in **V**\n",
    " 7. $(c+d)u = cu + du$\n",
    " 8. $c(u+v) = cu + cv$\n",
    " 9. $c(du) = (cd)u$\n",
    " 10. $1u = u$"
   ]
  },
  {
   "cell_type": "markdown",
   "metadata": {},
   "source": [
    "**b. Properties**\n",
    "- $0v = 0$\n",
    "- $c0 = 0$\n",
    "- if $cv = 0$, then c=0 or u=0\n",
    "- (-1)v = -v"
   ]
  },
  {
   "cell_type": "markdown",
   "metadata": {},
   "source": [
    "Proof: To be done"
   ]
  },
  {
   "cell_type": "markdown",
   "metadata": {},
   "source": [
    "### 2. Linear independence and linear dependence"
   ]
  },
  {
   "cell_type": "markdown",
   "metadata": {},
   "source": [
    "**a. Definition**\n",
    "\n",
    "- A vector **v** in a vector space is called a **linear combination** of the vectors $u_1, u_2, ..., u_k$ in if **v** can be written in the form $$v = \\sum_{i=1}^{k}c_i u_i$$ where $c_1, c_2, ... , c_k$ are scalars.\n",
    "- A set of vectors $S={v_1, v_2, ..., v_k}$ in a vector space is called **linearly independent** if the vector equation $$\\sum_{i=1}^{k}c_iu_i = 0$$ has only trivial solution, $\\sum_{1}^{k}c_i^2$=0. If there are also nontrivial\n",
    "solutions, then is called S **linearly dependent**.\n"
   ]
  },
  {
   "cell_type": "markdown",
   "metadata": {},
   "source": [
    "**b. Properties**\n",
    "\n",
    "- ${v}$ is linearly dependent $ \\Leftrightarrow v = 0 $\n",
    "- A set $S = {v_1, v_2, ..., v_k}, k\\geq2, $ is linearly dependent if and only if at least one of the vectors $v_j$ can be written as a linear combination of the other vectors in $S$.\n",
    "- A subset of linearly independent set is linearly independent.\n",
    "- A set contains linearly dependent set is linearly depedent.\n",
    "- A set $S = {v_1, v_2, ..., v_k}$ is linearly independent. $S' = {v_1, v_2, ..., v_k, u}$ is linearly dependent if and only if u can be writen as a linear combination of S and the combination is unique.\n",
    "- Proof: to be done"
   ]
  },
  {
   "cell_type": "code",
   "execution_count": null,
   "metadata": {
    "collapsed": true
   },
   "outputs": [],
   "source": []
  }
 ],
 "metadata": {
  "kernelspec": {
   "display_name": "Python 2",
   "language": "python",
   "name": "python2"
  },
  "language_info": {
   "codemirror_mode": {
    "name": "ipython",
    "version": 2
   },
   "file_extension": ".py",
   "mimetype": "text/x-python",
   "name": "python",
   "nbconvert_exporter": "python",
   "pygments_lexer": "ipython2",
   "version": "2.7.3"
  }
 },
 "nbformat": 4,
 "nbformat_minor": 0
}
