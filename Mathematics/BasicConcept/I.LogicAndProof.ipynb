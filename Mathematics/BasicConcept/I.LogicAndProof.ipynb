{
 "cells": [
  {
   "cell_type": "markdown",
   "metadata": {},
   "source": [
    "# I. Logic and Proof"
   ]
  },
  {
   "cell_type": "markdown",
   "metadata": {},
   "source": [
    "### 1. Propositional Logic"
   ]
  },
  {
   "cell_type": "markdown",
   "metadata": {},
   "source": [
    "A proposition is a declarative sentence (that is, a sentence that declares a fact) that is either true\n",
    "or false, but not both.\n",
    "\n",
    "Name   | Meaning | Notation\n",
    "-------|---------- | -------\n",
    "negation | not p  | $\\lnot p$\n",
    "disjunction | p or q | $p \\lor q$\n",
    "conjunction | p and q| $p \\land q$\n",
    "conditional | if p, then q | $p \\rightarrow q$\n",
    "biconditional | p if and only if q | $p \\leftrightarrow q$"
   ]
  },
  {
   "cell_type": "markdown",
   "metadata": {},
   "source": [
    "### 2. Propositional Equivalences"
   ]
  },
  {
   "cell_type": "markdown",
   "metadata": {},
   "source": [
    "A compound proposition that is always true, no matter what the truth values of the propositional variables that occur in it, is called a *tautology*.\n",
    "\n",
    "A compound proposition that is always false is called a *contradiction*.\n",
    "\n",
    "A compound proposition that is neither a tautology nor a contradiction is called a *contingency*."
   ]
  },
  {
   "cell_type": "markdown",
   "metadata": {},
   "source": [
    "The compound propositions p and q are called logically equivalent if $p \\leftrightarrow  q $ is a tautology. ($p \\equiv q$)"
   ]
  },
  {
   "cell_type": "markdown",
   "metadata": {},
   "source": [
    "  Equivalence                            | Name\n",
    ":-: | ---\n",
    "$$ p \\lor F \\equiv p $$ $$ p \\land T \\equiv p $$ | Identity laws\n",
    "$$ p \\lor T \\equiv T $$ $$ p \\land F \\equiv F $$ | Domination laws\n",
    "$$ p \\lor p \\equiv p $$ $$ p \\land p \\equiv p $$ | Idempotent laws\n",
    "$$ \\lnot(\\lnot p)) \\equiv p $$ | Double negation law\n",
    "$$ p \\lor q \\equiv q \\lor p $$ $$ p \\land q \\equiv q \\land p $$ | Commutative laws\n",
    "$$ (p \\lor q) \\lor r \\equiv p\\lor(q\\lor r) $$ $$ (p \\land q) \\land r \\equiv p \\land (q \\land r) $$ | Associative laws\n",
    "$$ p \\lor (q \\land r) \\equiv (p \\lor q) \\land (p \\lor r) $$ $$ p \\land (q \\lor r) \\equiv (p \\land q) \\lor (p \\land r) $$ | Distributive laws\n",
    "$$ \\lnot (p \\land q) \\equiv \\lnot p \\lor \\lnot q $$ $$ \\lnot (p \\lor q) \\equiv \\lnot p \\land \\lnot q $$ | De Morgan's laws\n",
    "$$ p \\lor (p \\land q) \\equiv p $$ $$ p \\land (p \\lor q) \\equiv p $$ | Absorption laws\n",
    "$$ p \\lor \\lnot p \\equiv T $$ $$ p \\land \\lnot p \\equiv F $$ | Negation laws\n",
    "Table of common Logical equivalence| \n"
   ]
  },
  {
   "cell_type": "markdown",
   "metadata": {},
   "source": [
    "### 3. Predicates and Quantifiers"
   ]
  },
  {
   "cell_type": "markdown",
   "metadata": {},
   "source": [
    "##### To be done"
   ]
  },
  {
   "cell_type": "markdown",
   "metadata": {},
   "source": [
    "### References\n",
    "Discrete Mathematics and Its Applications 7th Edition, Kenneth H. Rosen"
   ]
  }
 ],
 "metadata": {
  "kernelspec": {
   "display_name": "Python 2",
   "language": "python",
   "name": "python2"
  },
  "language_info": {
   "codemirror_mode": {
    "name": "ipython",
    "version": 2
   },
   "file_extension": ".py",
   "mimetype": "text/x-python",
   "name": "python",
   "nbconvert_exporter": "python",
   "pygments_lexer": "ipython2",
   "version": "2.7.3"
  }
 },
 "nbformat": 4,
 "nbformat_minor": 0
}
