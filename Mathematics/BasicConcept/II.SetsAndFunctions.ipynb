{
 "cells": [
  {
   "cell_type": "markdown",
   "metadata": {},
   "source": [
    "# II. Sets and Funtions"
   ]
  },
  {
   "cell_type": "markdown",
   "metadata": {},
   "source": [
    "### 1. Sets"
   ]
  },
  {
   "cell_type": "markdown",
   "metadata": {},
   "source": [
    "A set is an unordered collection of objects, called elements or members of the set.\n",
    "\n",
    "A set is said to contain its elements\n",
    "\n",
    "$ a \\in A $ if a is element of A\n",
    "\n",
    "$ a \\notin A $ if a is not element of A\n",
    "\n",
    "Ways to describe set\n",
    "* List all the members of a set (Roster method). E.g $ A = \\{a, b, c, d\\} $ (Roster method)\n",
    "* Use set builder notation: $ X = \\{ x \\mid P(x) \\} $ $$ E.g \\ \\ O=\\{x \\mid x \\ is \\ odd\\} $$\n",
    "\n",
    "A is a **subset** of B if and only if every element of A is also an element of B.\n",
    "$$ A \\subseteq B \\Leftrightarrow \\forall x (x \\in A \\rightarrow x \\in B $$\n",
    "Two sets are **equal** if and only if they have the same elements. \n",
    "$$ A = B \\Leftrightarrow \\forall x (x \\in A \\leftrightarrow x \\in B) $$\n",
    "$$ A = B \\Leftrightarrow A \\subseteq B \\land B \\subseteq A $$\n",
    "The **empty set**: $\\emptyset$\n",
    "$$ For \\ every \\ set \\ \\emptyset \\subseteq S, S \\subseteq S $$\n",
    "\n"
   ]
  },
  {
   "cell_type": "markdown",
   "metadata": {},
   "source": [
    "### 2. Set operations"
   ]
  },
  {
   "cell_type": "markdown",
   "metadata": {},
   "source": [
    "The **union** of the sets A and B is the set that contains those elements that are either in A or in B, or in both.\n",
    "$$ A \\cup B = \\{x \\mid x \\in A \\lor x \\in B \\} $$\n",
    "The **intersection** of the sets A and B is the set containing those elements in both A and B.\n",
    "$$ A \\cap B = \\{x \\mid x \\in A \\land x \\in B \\} $$\n",
    "The **difference** of A and B is the set containing those elements that are in A but not in B. The difference of A and B is also called the complement of B with respect to A.\n",
    "$$ A \\setminus B = \\{ x \\mid x \\in A \\land x \\notin B \\} $$\n",
    "\n",
    "Table set identies\n",
    "###### To be done"
   ]
  },
  {
   "cell_type": "markdown",
   "metadata": {},
   "source": [
    "### 3. Function\n",
    "Let X and Y be nonempty sets. A function f from X to Y is an assignment of exactly one element of X to each element of Y\n",
    "$$ f : X \\to Y $$\n",
    "A function f is said to be **one-to-one**, or an injunction, if and only if f(a) = f (b) implies that a = b for all a and b in the domain of f (injunctive)\n",
    "$$ \\forall a \\forall b (a \\neq b \\rightarrow (f(a) \\neq f(b) $$\n",
    "A function f from X to Y is called **onto**, or a surjection, if and only if for every element y ∈ Y there is an element x ∈ X with f(x) = y (Surjective)\n",
    "$$ \\forall y \\in Y, \\exists x \\in X : f(x) = y $$\n",
    "A function f is a **one-to-one correspondence**, or a bijection, if it is both one-to-one and onto. (Bijective)\n",
    "$$ \\forall y \\in Y, \\exists ! x \\in X : f(x) = y $$"
   ]
  },
  {
   "cell_type": "markdown",
   "metadata": {},
   "source": [
    "### 4. Cardinality of Sets"
   ]
  },
  {
   "cell_type": "markdown",
   "metadata": {},
   "source": [
    "##### To be done"
   ]
  },
  {
   "cell_type": "markdown",
   "metadata": {},
   "source": [
    "### References\n",
    "Discrete Mathematics and Its Applications 7th Edition, Kenneth H. Rosen\n",
    "Đại số tuyến tính, Nguyễn Hữu Việt Hưng"
   ]
  }
 ],
 "metadata": {
  "kernelspec": {
   "display_name": "Python 2",
   "language": "python",
   "name": "python2"
  },
  "language_info": {
   "codemirror_mode": {
    "name": "ipython",
    "version": 2
   },
   "file_extension": ".py",
   "mimetype": "text/x-python",
   "name": "python",
   "nbconvert_exporter": "python",
   "pygments_lexer": "ipython2",
   "version": "2.7.3"
  }
 },
 "nbformat": 4,
 "nbformat_minor": 0
}
