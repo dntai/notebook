{
 "cells": [
  {
   "cell_type": "markdown",
   "metadata": {},
   "source": [
    "# IV. Relations"
   ]
  },
  {
   "cell_type": "markdown",
   "metadata": {},
   "source": [
    "### 1. Introduction"
   ]
  },
  {
   "cell_type": "markdown",
   "metadata": {},
   "source": [
    "**a. Definition**\n",
    "- Let $A$ and $B$ be sets. A *binary relation* from $A$ to $B$ is a subset of A x B. $$ R \\subseteq A × B $$ $$ aRb : (a,b) \\in R $$\n",
    "- A **relation on a set** A is a relation from A to A.\n",
    "\n",
    "**b. Properties of relations**\n",
    "- A relation $R$ on a set $A$ is called **reflexive** if $ (a, a) \\in R, \\forall a \\in A $\n",
    "- A relation $R$ on a set $A$ is called **symmetric** if $ (a, b) \\in R \\Rightarrow (b,a) \\in R, \\forall a, b \\in A $\n",
    "- A relation $R$ on a set $A$ is called **antisymetric\"** if $ aRb \\land bRa \\Rightarrow a=b, \\forall a,b \\in A $\n",
    "- A relation $R$ on a set $A$ is called **transitive** if $ aRb \\land bRc \\Rightarrow aRc, \\forall a,b,c \\in A $"
   ]
  },
  {
   "cell_type": "markdown",
   "metadata": {},
   "source": [
    "### References\n",
    "- Discrete Mathematics and Its Applications 7th Edition, Kenneth H. Rosen\n",
    "- Đại số tuyến tính, Nguyễn Hữu Việt Hưng"
   ]
  }
 ],
 "metadata": {
  "kernelspec": {
   "display_name": "Python 2",
   "language": "python",
   "name": "python2"
  },
  "language_info": {
   "codemirror_mode": {
    "name": "ipython",
    "version": 2
   },
   "file_extension": ".py",
   "mimetype": "text/x-python",
   "name": "python",
   "nbconvert_exporter": "python",
   "pygments_lexer": "ipython2",
   "version": "2.7.3"
  }
 },
 "nbformat": 4,
 "nbformat_minor": 0
}
